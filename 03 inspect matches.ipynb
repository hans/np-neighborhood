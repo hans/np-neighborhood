{
 "cells": [
  {
   "cell_type": "code",
   "execution_count": 1,
   "id": "88db3ccc",
   "metadata": {},
   "outputs": [],
   "source": [
    "import os\n",
    "os.environ[\"CUDA_VISIBLE_DEVICES\"] = \"1\""
   ]
  },
  {
   "cell_type": "code",
   "execution_count": 2,
   "id": "e9b27773-2bb3-446b-bc8c-bb1b3fba389a",
   "metadata": {},
   "outputs": [],
   "source": [
    "from collections import defaultdict\n",
    "import pandas as pd\n",
    "from nltk import word_tokenize\n",
    "import re\n",
    "import numpy as np\n",
    "import seaborn as sns\n",
    "import torch\n",
    "from tqdm.auto import tqdm, trange\n",
    "import transformers"
   ]
  },
  {
   "cell_type": "code",
   "execution_count": 3,
   "id": "e8f8a118-efdb-4298-857c-5017d5d27849",
   "metadata": {},
   "outputs": [],
   "source": [
    "target_length_range = (5, 10)"
   ]
  },
  {
   "cell_type": "code",
   "execution_count": 4,
   "id": "d3df8a4b",
   "metadata": {},
   "outputs": [],
   "source": [
    "# regex implementation here differs slightly from the one used to do the efficient search;\n",
    "# prepare to filter the results so we know we are consistent\n",
    "with open(\"final_word_re.txt\") as f:\n",
    "    word_re = re.compile(f.read(), re.IGNORECASE)"
   ]
  },
  {
   "cell_type": "code",
   "execution_count": 5,
   "id": "bbee08b5-cfc0-42c4-b3fd-46507a41adb4",
   "metadata": {},
   "outputs": [
    {
     "name": "stdout",
     "output_type": "stream",
     "text": [
      "8991155 matches.opensubtitles-en.txt\n"
     ]
    }
   ],
   "source": [
    "!wc -l matches.opensubtitles-en.txt"
   ]
  },
  {
   "cell_type": "code",
   "execution_count": 6,
   "id": "073b4a95-6764-4607-be8f-9a4e962ea9c3",
   "metadata": {
    "scrolled": true
   },
   "outputs": [
    {
     "data": {
      "application/vnd.jupyter.widget-view+json": {
       "model_id": "14437bb68816449eba4a900a3145d99f",
       "version_major": 2,
       "version_minor": 0
      },
      "text/plain": [
       "  0%|          | 0/8991155 [00:00<?, ?it/s]"
      ]
     },
     "metadata": {},
     "output_type": "display_data"
    }
   ],
   "source": [
    "matches = defaultdict(list)\n",
    "\n",
    "with open(\"matches.opensubtitles-en.txt\", \"r\") as f:\n",
    "    for line in tqdm(f, total=8991155):\n",
    "        word, sent = line.strip().split(\"\\t\", 1)\n",
    "        toks = word_tokenize(sent)\n",
    "        if len(toks) >= target_length_range[0] and len(toks) <= target_length_range[1]:\n",
    "            matches[word].append(sent)"
   ]
  },
  {
   "cell_type": "code",
   "execution_count": 7,
   "id": "95411026-bb6d-4ef1-ad30-6bfde7751edf",
   "metadata": {},
   "outputs": [],
   "source": [
    "matches = {k: list(set(ms)) for k, ms in matches.items()}"
   ]
  },
  {
   "cell_type": "code",
   "execution_count": 8,
   "id": "06d1ebd2",
   "metadata": {},
   "outputs": [],
   "source": [
    "# Preprocess sentences\n",
    "def preprocess_sentence(sentence, target_word):\n",
    "    # make sure target word appears with preceding space\n",
    "    sentence = re.sub(rf\"(.\\b)(?={target_word})\", lambda x: \" \" if x.group(1) in [\" \", \"-\"] else x.group(1) + \" \", sentence)\n",
    "\n",
    "    if not word_re.match(target_word):\n",
    "        return None\n",
    "\n",
    "    return sentence"
   ]
  },
  {
   "cell_type": "code",
   "execution_count": 9,
   "id": "9d944c85",
   "metadata": {},
   "outputs": [],
   "source": [
    "new_matches = {}\n",
    "for k, sentences in matches.items():\n",
    "    new_matches_k = []\n",
    "    for sentence in sentences:\n",
    "        new_sentence = preprocess_sentence(sentence, k)\n",
    "        if new_sentence is not None:\n",
    "            new_matches_k.append(new_sentence)\n",
    "    new_matches[k] = new_matches_k"
   ]
  },
  {
   "cell_type": "code",
   "execution_count": 10,
   "id": "40af8a8c",
   "metadata": {},
   "outputs": [],
   "source": [
    "# sort by length so that we get efficient padding/batching\n",
    "matches = {k: sorted(sentences, key=lambda x: -len(x)) for k, sentences in new_matches.items()}"
   ]
  },
  {
   "cell_type": "markdown",
   "id": "0103fa14-5cae-4d73-b8ca-8aa16ae98961",
   "metadata": {},
   "source": [
    "## Surprisal evaluation"
   ]
  },
  {
   "cell_type": "code",
   "execution_count": 11,
   "id": "4a2658a0-bac3-4d02-975f-e68f22c7a750",
   "metadata": {},
   "outputs": [],
   "source": [
    "# model = transformers.AutoModelForCausalLM.from_pretrained(\"gpt2-xl\").to(\"cuda\")\n",
    "# tokenizer = transformers.AutoTokenizer.from_pretrained(\"gpt2-xl\")\n",
    "\n",
    "# tokenizer.pad_token = tokenizer.eos_token\n",
    "\n",
    "import minicons.scorer\n",
    "scorer = minicons.scorer.IncrementalLMScorer(\"gpt2\", device=\"cuda\")"
   ]
  },
  {
   "cell_type": "code",
   "execution_count": 12,
   "id": "afee5646",
   "metadata": {},
   "outputs": [],
   "source": [
    "from typing import Iterable, List, Tuple, Union\n",
    "\n",
    "\n",
    "def compute_surprisal_entropy(self,\n",
    "    batch: Iterable,\n",
    "    rank: bool = False,\n",
    "    prob: bool = False,\n",
    "    base_two: bool = False,\n",
    "    return_tensors: bool = False,\n",
    ") -> Union[Tuple[List[float], List[float]], List[float]]:\n",
    "    \"\"\"\n",
    "    Primary computational method that processes a batch of prepared sentences and returns per-token scores for each sentence. By default, returns log-probabilities.\n",
    "\n",
    "    :param ``Iterable`` batch: batched input as processed by ``prepare_text`` or ``prime_text``.\n",
    "    :param ``bool`` rank: whether the model should also return ranks per word (based on the conditional log-probability of the word in context).\n",
    "    :param ``bool`` prob: whether the model should return probabilities instead of log-probabilities. Can only be `True` when `base_two` is `False`.\n",
    "    :param ``bool`` base_two: whether the base of the log should be 2 (usually preferred when reporting results in bits). Can only be `True` when `prob` is `False`.\n",
    "    :param ``bool`` return_tensors: whether the model should return scores as a list of tensors instead of a list of lists. This is important in some other convenient methods used in the package.\n",
    "\n",
    "    :return: Either a tuple of lists, each containing probabilities and ranks per token in each sentence passed in the input.\n",
    "    :rtype: ``Union[Tuple[List[float], List[int]], List[float]]``\n",
    "    \"\"\"\n",
    "    assert not (\n",
    "        base_two and prob\n",
    "    ), \"cannot both use base (which is for a log), and a probability measure at the same time!\"\n",
    "\n",
    "    batch = self.prepare_text(batch)\n",
    "\n",
    "    encoded, offsets = batch\n",
    "    if self.device != \"auto\":\n",
    "        encoded = encoded.to(self.device)\n",
    "\n",
    "    # ids = [\n",
    "    #     [i for i in instance if i != self.tokenizer.pad_token_id]\n",
    "    #     for instance in encoded[\"input_ids\"].tolist()\n",
    "    # ]\n",
    "    ids = [\n",
    "        [i for i, am in zip(instance, attention_mask) if am != 0]\n",
    "        for instance, attention_mask in zip(\n",
    "            encoded[\"input_ids\"].tolist(), encoded[\"attention_mask\"].tolist()\n",
    "        )\n",
    "    ]\n",
    "\n",
    "    ## Ignore the probabilities of the first token.\n",
    "    effective_ids = [id[1:] for id in ids]\n",
    "\n",
    "    with torch.no_grad():\n",
    "        logits = self.model(**encoded).logits.detach()\n",
    "\n",
    "    # logits[:, :, self.tokenizer.pad_token_id] = float(\"-inf\")\n",
    "\n",
    "    logits = logits.split([1] * len(offsets))\n",
    "\n",
    "    ## Set up storage variables\n",
    "    surprisals, entropies = [], []\n",
    "\n",
    "    for logit, idx, offset in zip(logits, effective_ids, offsets):\n",
    "        length = len(idx)\n",
    "        logit = logit.squeeze(0)[torch.arange(offset, length),]\n",
    "\n",
    "        logprob_distribution = logit - logit.logsumexp(1).unsqueeze(1)\n",
    "        entropy = (-1.0 * (logprob_distribution * logprob_distribution.exp()).sum(1))\n",
    "\n",
    "        query_ids = idx[offset:]\n",
    "        surprisal = (\n",
    "            logprob_distribution[torch.arange(length - offset), query_ids]\n",
    "            / torch.tensor(2).log()\n",
    "        )\n",
    "\n",
    "        surprisals.append(surprisal)\n",
    "        entropies.append(entropy)\n",
    "\n",
    "    indices = [\n",
    "        [i for i, am in zip(instance, attention_mask) if am != 0]\n",
    "        for instance, attention_mask in zip(\n",
    "            batch[0][\"input_ids\"].tolist(),\n",
    "            batch[0][\"attention_mask\"].tolist(),\n",
    "        )\n",
    "    ]\n",
    "    tokens = [self.tokenizer.convert_ids_to_tokens(idx) for idx in indices]\n",
    "    assert len(tokens) == len(surprisals)\n",
    "\n",
    "    return tokens, surprisals, entropies"
   ]
  },
  {
   "cell_type": "code",
   "execution_count": 27,
   "id": "d204288d-41f0-46b3-b098-f71040167869",
   "metadata": {},
   "outputs": [
    {
     "data": {
      "application/vnd.jupyter.widget-view+json": {
       "model_id": "9084bd460a52417d808577463fb870b7",
       "version_major": 2,
       "version_minor": 0
      },
      "text/plain": [
       "  0%|          | 0/22 [00:00<?, ?target word/s]"
      ]
     },
     "metadata": {},
     "output_type": "display_data"
    },
    {
     "name": "stdout",
     "output_type": "stream",
     "text": [
      "vice [7927]\n"
     ]
    },
    {
     "data": {
      "application/vnd.jupyter.widget-view+json": {
       "model_id": "c938535fdbea461c9c6c8209c026dcc5",
       "version_major": 2,
       "version_minor": 0
      },
      "text/plain": [
       "  0%|          | 0/10 [00:00<?, ?batch/s]"
      ]
     },
     "metadata": {},
     "output_type": "display_data"
    },
    {
     "name": "stdout",
     "output_type": "stream",
     "text": [
      "stray [28583]\n"
     ]
    },
    {
     "data": {
      "application/vnd.jupyter.widget-view+json": {
       "model_id": "f2921d9016b946f086e1d7a591e96c17",
       "version_major": 2,
       "version_minor": 0
      },
      "text/plain": [
       "  0%|          | 0/8 [00:00<?, ?batch/s]"
      ]
     },
     "metadata": {},
     "output_type": "display_data"
    },
    {
     "name": "stdout",
     "output_type": "stream",
     "text": [
      "spit [27591]\n"
     ]
    },
    {
     "data": {
      "application/vnd.jupyter.widget-view+json": {
       "model_id": "5be0bccd00764e5a9e4ba4969a37c5c5",
       "version_major": 2,
       "version_minor": 0
      },
      "text/plain": [
       "  0%|          | 0/15 [00:00<?, ?batch/s]"
      ]
     },
     "metadata": {},
     "output_type": "display_data"
    },
    {
     "name": "stdout",
     "output_type": "stream",
     "text": [
      "pout [279, 448]\n"
     ]
    },
    {
     "data": {
      "application/vnd.jupyter.widget-view+json": {
       "model_id": "c39135d007f3412fa7ee6dd25ad6923a",
       "version_major": 2,
       "version_minor": 0
      },
      "text/plain": [
       "  0%|          | 0/4 [00:00<?, ?batch/s]"
      ]
     },
     "metadata": {},
     "output_type": "display_data"
    },
    {
     "name": "stdout",
     "output_type": "stream",
     "text": [
      "lever [17124]\n"
     ]
    },
    {
     "data": {
      "application/vnd.jupyter.widget-view+json": {
       "model_id": "2200f97c4de7469d8389e83b754b23cc",
       "version_major": 2,
       "version_minor": 0
      },
      "text/plain": [
       "  0%|          | 0/8 [00:00<?, ?batch/s]"
      ]
     },
     "metadata": {},
     "output_type": "display_data"
    },
    {
     "name": "stdout",
     "output_type": "stream",
     "text": [
      "spark [9009]\n"
     ]
    },
    {
     "data": {
      "application/vnd.jupyter.widget-view+json": {
       "model_id": "cbd4a8e351c94bd6a309e0280db704cc",
       "version_major": 2,
       "version_minor": 0
      },
      "text/plain": [
       "  0%|          | 0/11 [00:00<?, ?batch/s]"
      ]
     },
     "metadata": {},
     "output_type": "display_data"
    },
    {
     "name": "stdout",
     "output_type": "stream",
     "text": [
      "snow [6729]\n"
     ]
    },
    {
     "data": {
      "application/vnd.jupyter.widget-view+json": {
       "model_id": "236abd7ca4654880be8526df3008f636",
       "version_major": 2,
       "version_minor": 0
      },
      "text/plain": [
       "  0%|          | 0/76 [00:00<?, ?batch/s]"
      ]
     },
     "metadata": {},
     "output_type": "display_data"
    },
    {
     "name": "stdout",
     "output_type": "stream",
     "text": [
      "sage [35021]\n"
     ]
    },
    {
     "data": {
      "application/vnd.jupyter.widget-view+json": {
       "model_id": "382fb5aa39c7491a8595169320fc2bf1",
       "version_major": 2,
       "version_minor": 0
      },
      "text/plain": [
       "  0%|          | 0/8 [00:00<?, ?batch/s]"
      ]
     },
     "metadata": {},
     "output_type": "display_data"
    },
    {
     "name": "stdout",
     "output_type": "stream",
     "text": [
      "moral [6573]\n"
     ]
    },
    {
     "data": {
      "application/vnd.jupyter.widget-view+json": {
       "model_id": "7a262b908841400fba409e99feef0f42",
       "version_major": 2,
       "version_minor": 0
      },
      "text/plain": [
       "  0%|          | 0/6 [00:00<?, ?batch/s]"
      ]
     },
     "metadata": {},
     "output_type": "display_data"
    },
    {
     "name": "stdout",
     "output_type": "stream",
     "text": [
      "blush [37854]\n"
     ]
    },
    {
     "data": {
      "application/vnd.jupyter.widget-view+json": {
       "model_id": "74d1f051b532401ba10d829fc52123e6",
       "version_major": 2,
       "version_minor": 0
      },
      "text/plain": [
       "  0%|          | 0/9 [00:00<?, ?batch/s]"
      ]
     },
     "metadata": {},
     "output_type": "display_data"
    },
    {
     "name": "stdout",
     "output_type": "stream",
     "text": [
      "cramp [1067, 696]\n"
     ]
    },
    {
     "data": {
      "application/vnd.jupyter.widget-view+json": {
       "model_id": "7a736174515f470f8fb96fe54b2f1e2a",
       "version_major": 2,
       "version_minor": 0
      },
      "text/plain": [
       "  0%|          | 0/8 [00:00<?, ?batch/s]"
      ]
     },
     "metadata": {},
     "output_type": "display_data"
    },
    {
     "name": "stdout",
     "output_type": "stream",
     "text": [
      "clay [21558]\n"
     ]
    },
    {
     "data": {
      "application/vnd.jupyter.widget-view+json": {
       "model_id": "1267e014c3e94d0f9093b871ac8b59e7",
       "version_major": 2,
       "version_minor": 0
      },
      "text/plain": [
       "  0%|          | 0/17 [00:00<?, ?batch/s]"
      ]
     },
     "metadata": {},
     "output_type": "display_data"
    },
    {
     "name": "stdout",
     "output_type": "stream",
     "text": [
      "bunk [36355]\n"
     ]
    },
    {
     "data": {
      "application/vnd.jupyter.widget-view+json": {
       "model_id": "16971f0370f5441292b1970aef619e2e",
       "version_major": 2,
       "version_minor": 0
      },
      "text/plain": [
       "  0%|          | 0/14 [00:00<?, ?batch/s]"
      ]
     },
     "metadata": {},
     "output_type": "display_data"
    },
    {
     "name": "stdout",
     "output_type": "stream",
     "text": [
      "loft [42186]\n"
     ]
    },
    {
     "data": {
      "application/vnd.jupyter.widget-view+json": {
       "model_id": "cd286b56789a4842b142e0be289e9c16",
       "version_major": 2,
       "version_minor": 0
      },
      "text/plain": [
       "  0%|          | 0/15 [00:00<?, ?batch/s]"
      ]
     },
     "metadata": {},
     "output_type": "display_data"
    },
    {
     "name": "stdout",
     "output_type": "stream",
     "text": [
      "tomb [22234]\n"
     ]
    },
    {
     "data": {
      "application/vnd.jupyter.widget-view+json": {
       "model_id": "8fb6a0fbfe764ac184501be4fdc9c096",
       "version_major": 2,
       "version_minor": 0
      },
      "text/plain": [
       "  0%|          | 0/26 [00:00<?, ?batch/s]"
      ]
     },
     "metadata": {},
     "output_type": "display_data"
    },
    {
     "name": "stdout",
     "output_type": "stream",
     "text": [
      "pity [26246]\n"
     ]
    },
    {
     "data": {
      "application/vnd.jupyter.widget-view+json": {
       "model_id": "075f008a07dc4c378fd049834225243b",
       "version_major": 2,
       "version_minor": 0
      },
      "text/plain": [
       "  0%|          | 0/41 [00:00<?, ?batch/s]"
      ]
     },
     "metadata": {},
     "output_type": "display_data"
    },
    {
     "name": "stdout",
     "output_type": "stream",
     "text": [
      "fluke [781, 4649]\n"
     ]
    },
    {
     "data": {
      "application/vnd.jupyter.widget-view+json": {
       "model_id": "445f67622b7a43e7ab9984b808ee4838",
       "version_major": 2,
       "version_minor": 0
      },
      "text/plain": [
       "  0%|          | 0/6 [00:00<?, ?batch/s]"
      ]
     },
     "metadata": {},
     "output_type": "display_data"
    },
    {
     "name": "stdout",
     "output_type": "stream",
     "text": [
      "motor [5584]\n"
     ]
    },
    {
     "data": {
      "application/vnd.jupyter.widget-view+json": {
       "model_id": "d57b9cce1b8d435eaa61fda5dc3503b5",
       "version_major": 2,
       "version_minor": 0
      },
      "text/plain": [
       "  0%|          | 0/17 [00:00<?, ?batch/s]"
      ]
     },
     "metadata": {},
     "output_type": "display_data"
    },
    {
     "name": "stdout",
     "output_type": "stream",
     "text": [
      "quirk [627, 14232]\n"
     ]
    },
    {
     "data": {
      "application/vnd.jupyter.widget-view+json": {
       "model_id": "3edb267a9b584c98ac2fd6193d20cc7b",
       "version_major": 2,
       "version_minor": 0
      },
      "text/plain": [
       "  0%|          | 0/1 [00:00<?, ?batch/s]"
      ]
     },
     "metadata": {},
     "output_type": "display_data"
    },
    {
     "name": "stdout",
     "output_type": "stream",
     "text": [
      "filth [1226, 400]\n"
     ]
    },
    {
     "data": {
      "application/vnd.jupyter.widget-view+json": {
       "model_id": "4a73035d120f491396989ac2e99b2b76",
       "version_major": 2,
       "version_minor": 0
      },
      "text/plain": [
       "  0%|          | 0/15 [00:00<?, ?batch/s]"
      ]
     },
     "metadata": {},
     "output_type": "display_data"
    },
    {
     "name": "stdout",
     "output_type": "stream",
     "text": [
      "self [2116]\n"
     ]
    },
    {
     "data": {
      "application/vnd.jupyter.widget-view+json": {
       "model_id": "a260db3e1cfa4b019500890ffdf650a6",
       "version_major": 2,
       "version_minor": 0
      },
      "text/plain": [
       "  0%|          | 0/52 [00:00<?, ?batch/s]"
      ]
     },
     "metadata": {},
     "output_type": "display_data"
    },
    {
     "name": "stdout",
     "output_type": "stream",
     "text": [
      "daily [4445]\n"
     ]
    },
    {
     "data": {
      "application/vnd.jupyter.widget-view+json": {
       "model_id": "d93d18afd680426da05d8e6e267aa7a2",
       "version_major": 2,
       "version_minor": 0
      },
      "text/plain": [
       "  0%|          | 0/23 [00:00<?, ?batch/s]"
      ]
     },
     "metadata": {},
     "output_type": "display_data"
    }
   ],
   "source": [
    "batch_size = 64\n",
    "results = []\n",
    "\n",
    "# study_words = list(matches.keys())\n",
    "# try again with words which we're struggling to find samples\n",
    "study_words = \"vice stray spit pout lever spark snow sage moral blush cramp clay bunk loft tomb pity fluke motor quirk filth self daily\".split()\n",
    "\n",
    "for target_word in tqdm(study_words, unit=\"target word\"):\n",
    "    sents = matches[target_word]\n",
    "\n",
    "    sent_ids = np.arange(len(sents))\n",
    "    print(target_word, scorer.tokenizer(\" \" + target_word).input_ids)\n",
    "    target_word_tokens = scorer.tokenizer.convert_ids_to_tokens(scorer.tokenizer(\" \" + target_word)[\"input_ids\"])\n",
    "\n",
    "    for batch_cursor in trange(0, len(sents), batch_size, unit=\"batch\", leave=False):\n",
    "        sent_ids_batch = sent_ids[batch_cursor:batch_cursor + batch_size]\n",
    "        sents_batch = sents[batch_cursor:batch_cursor + batch_size]\n",
    "\n",
    "        batch_tokens, batch_surprisals, batch_entropies = compute_surprisal_entropy(scorer, sents_batch)\n",
    "\n",
    "        found_mask = np.zeros((len(sents_batch), 1), dtype=bool)\n",
    "        sentence_target_values = np.zeros((len(sents_batch), 2))\n",
    "        for i, sent in enumerate(sents_batch):\n",
    "            for j in range(len(batch_tokens[i])):\n",
    "                if batch_tokens[i][j:j+len(target_word_tokens)] == target_word_tokens:\n",
    "                    sentence_target_values[i, 0] = batch_surprisals[i][j - 1:j - 1 +len(target_word_tokens)].sum().item()\n",
    "                    sentence_target_values[i, 1] = batch_entropies[i][j - 1].item()\n",
    "                    found_mask[i] = True\n",
    "\n",
    "        results.append(pd.DataFrame({\"target_word\": target_word, \"sentence_idx\": sent_ids_batch, \"sentence\": sents_batch,\n",
    "                                     \"found\": found_mask.flatten(), \"surprisal\": sentence_target_values[:, 0], \"entropy\": sentence_target_values[:, 1]}))"
   ]
  },
  {
   "cell_type": "code",
   "execution_count": 28,
   "id": "44c7fd33",
   "metadata": {},
   "outputs": [
    {
     "name": "stdout",
     "output_type": "stream",
     "text": [
      "2f4f9e4c\n"
     ]
    }
   ],
   "source": [
    "from time import time\n",
    "from hashlib import sha1\n",
    "sample_id = sha1(str(int(time())).encode()).hexdigest()[:8]\n",
    "print(sample_id)"
   ]
  },
  {
   "cell_type": "code",
   "execution_count": 29,
   "id": "eed608f4",
   "metadata": {},
   "outputs": [],
   "source": [
    "results_df = pd.concat(results)\n",
    "results_df.to_csv(f\"filtered_matches-{scorer.model.name_or_path}-{sample_id}.csv\", index=False)"
   ]
  },
  {
   "cell_type": "code",
   "execution_count": 30,
   "id": "19de904d",
   "metadata": {},
   "outputs": [],
   "source": [
    "results_df = pd.read_csv(f\"filtered_matches-{scorer.model.name_or_path}-{sample_id}.csv\")"
   ]
  },
  {
   "cell_type": "code",
   "execution_count": 31,
   "id": "92013570",
   "metadata": {},
   "outputs": [
    {
     "data": {
      "text/html": [
       "<div>\n",
       "<style scoped>\n",
       "    .dataframe tbody tr th:only-of-type {\n",
       "        vertical-align: middle;\n",
       "    }\n",
       "\n",
       "    .dataframe tbody tr th {\n",
       "        vertical-align: top;\n",
       "    }\n",
       "\n",
       "    .dataframe thead th {\n",
       "        text-align: right;\n",
       "    }\n",
       "</style>\n",
       "<table border=\"1\" class=\"dataframe\">\n",
       "  <thead>\n",
       "    <tr style=\"text-align: right;\">\n",
       "      <th></th>\n",
       "      <th>target_word</th>\n",
       "      <th>sentence_idx</th>\n",
       "      <th>sentence</th>\n",
       "      <th>found</th>\n",
       "      <th>surprisal</th>\n",
       "      <th>entropy</th>\n",
       "    </tr>\n",
       "  </thead>\n",
       "  <tbody>\n",
       "    <tr>\n",
       "      <th>0</th>\n",
       "      <td>vice</td>\n",
       "      <td>0</td>\n",
       "      <td>Butin ordertoknow virtue, wemustacquaintoursel...</td>\n",
       "      <td>True</td>\n",
       "      <td>-14.437285</td>\n",
       "      <td>6.112860</td>\n",
       "    </tr>\n",
       "    <tr>\n",
       "      <th>1</th>\n",
       "      <td>vice</td>\n",
       "      <td>1</td>\n",
       "      <td>Butinordertoknow virtue wemustacquaint ourselv...</td>\n",
       "      <td>True</td>\n",
       "      <td>-15.146790</td>\n",
       "      <td>6.041899</td>\n",
       "    </tr>\n",
       "    <tr>\n",
       "      <th>2</th>\n",
       "      <td>vice</td>\n",
       "      <td>2</td>\n",
       "      <td>In fact that woman for you represents degradat...</td>\n",
       "      <td>True</td>\n",
       "      <td>-12.855838</td>\n",
       "      <td>5.861694</td>\n",
       "    </tr>\n",
       "    <tr>\n",
       "      <th>3</th>\n",
       "      <td>vice</td>\n",
       "      <td>3</td>\n",
       "      <td>He wanted to create an imperishable cathedral ...</td>\n",
       "      <td>True</td>\n",
       "      <td>-14.358531</td>\n",
       "      <td>6.909498</td>\n",
       "    </tr>\n",
       "    <tr>\n",
       "      <th>4</th>\n",
       "      <td>vice</td>\n",
       "      <td>4</td>\n",
       "      <td>Donovan was quite the cataloguer of weakness a...</td>\n",
       "      <td>True</td>\n",
       "      <td>-11.776348</td>\n",
       "      <td>7.481086</td>\n",
       "    </tr>\n",
       "    <tr>\n",
       "      <th>...</th>\n",
       "      <td>...</td>\n",
       "      <td>...</td>\n",
       "      <td>...</td>\n",
       "      <td>...</td>\n",
       "      <td>...</td>\n",
       "      <td>...</td>\n",
       "    </tr>\n",
       "    <tr>\n",
       "      <th>24228</th>\n",
       "      <td>daily</td>\n",
       "      <td>1417</td>\n",
       "      <td>- Yeah, daily.</td>\n",
       "      <td>True</td>\n",
       "      <td>-18.987755</td>\n",
       "      <td>4.401497</td>\n",
       "    </tr>\n",
       "    <tr>\n",
       "      <th>24229</th>\n",
       "      <td>daily</td>\n",
       "      <td>1418</td>\n",
       "      <td>I do so daily.</td>\n",
       "      <td>True</td>\n",
       "      <td>-12.988955</td>\n",
       "      <td>4.992076</td>\n",
       "    </tr>\n",
       "    <tr>\n",
       "      <th>24230</th>\n",
       "      <td>daily</td>\n",
       "      <td>1419</td>\n",
       "      <td>- Yes, daily.</td>\n",
       "      <td>True</td>\n",
       "      <td>-15.755229</td>\n",
       "      <td>5.218950</td>\n",
       "    </tr>\n",
       "    <tr>\n",
       "      <th>24231</th>\n",
       "      <td>daily</td>\n",
       "      <td>1420</td>\n",
       "      <td>\"My daily...\"</td>\n",
       "      <td>True</td>\n",
       "      <td>-12.378953</td>\n",
       "      <td>6.872021</td>\n",
       "    </tr>\n",
       "    <tr>\n",
       "      <th>24232</th>\n",
       "      <td>daily</td>\n",
       "      <td>1421</td>\n",
       "      <td>\"My daily--\"</td>\n",
       "      <td>True</td>\n",
       "      <td>-12.378953</td>\n",
       "      <td>6.872021</td>\n",
       "    </tr>\n",
       "  </tbody>\n",
       "</table>\n",
       "<p>24233 rows × 6 columns</p>\n",
       "</div>"
      ],
      "text/plain": [
       "      target_word  sentence_idx  \\\n",
       "0            vice             0   \n",
       "1            vice             1   \n",
       "2            vice             2   \n",
       "3            vice             3   \n",
       "4            vice             4   \n",
       "...           ...           ...   \n",
       "24228       daily          1417   \n",
       "24229       daily          1418   \n",
       "24230       daily          1419   \n",
       "24231       daily          1420   \n",
       "24232       daily          1421   \n",
       "\n",
       "                                                sentence  found  surprisal  \\\n",
       "0      Butin ordertoknow virtue, wemustacquaintoursel...   True -14.437285   \n",
       "1      Butinordertoknow virtue wemustacquaint ourselv...   True -15.146790   \n",
       "2      In fact that woman for you represents degradat...   True -12.855838   \n",
       "3      He wanted to create an imperishable cathedral ...   True -14.358531   \n",
       "4      Donovan was quite the cataloguer of weakness a...   True -11.776348   \n",
       "...                                                  ...    ...        ...   \n",
       "24228                                     - Yeah, daily.   True -18.987755   \n",
       "24229                                     I do so daily.   True -12.988955   \n",
       "24230                                      - Yes, daily.   True -15.755229   \n",
       "24231                                      \"My daily...\"   True -12.378953   \n",
       "24232                                       \"My daily--\"   True -12.378953   \n",
       "\n",
       "        entropy  \n",
       "0      6.112860  \n",
       "1      6.041899  \n",
       "2      5.861694  \n",
       "3      6.909498  \n",
       "4      7.481086  \n",
       "...         ...  \n",
       "24228  4.401497  \n",
       "24229  4.992076  \n",
       "24230  5.218950  \n",
       "24231  6.872021  \n",
       "24232  6.872021  \n",
       "\n",
       "[24233 rows x 6 columns]"
      ]
     },
     "execution_count": 31,
     "metadata": {},
     "output_type": "execute_result"
    }
   ],
   "source": [
    "results_df"
   ]
  },
  {
   "cell_type": "code",
   "execution_count": 32,
   "id": "a62ad473",
   "metadata": {},
   "outputs": [
    {
     "data": {
      "text/plain": [
       "<seaborn.axisgrid.JointGrid at 0x7fe701ac1cc0>"
      ]
     },
     "execution_count": 32,
     "metadata": {},
     "output_type": "execute_result"
    },
    {
     "data": {
      "image/png": "[encoded data removed]",
      "text/plain": [
       "<Figure size 600x600 with 3 Axes>"
      ]
     },
     "metadata": {},
     "output_type": "display_data"
    }
   ],
   "source": [
    "sns.jointplot(data=results_df, x=\"surprisal\", y=\"entropy\", alpha=0.1)"
   ]
  },
  {
   "cell_type": "code",
   "execution_count": 33,
   "id": "a8bd5b4e",
   "metadata": {},
   "outputs": [
    {
     "data": {
      "text/plain": [
       "132"
      ]
     },
     "execution_count": 33,
     "metadata": {},
     "output_type": "execute_result"
    }
   ],
   "source": [
    "len(matches)"
   ]
  },
  {
   "cell_type": "code",
   "execution_count": 34,
   "id": "98c15650",
   "metadata": {},
   "outputs": [
    {
     "data": {
      "text/html": [
       "<div>\n",
       "<style scoped>\n",
       "    .dataframe tbody tr th:only-of-type {\n",
       "        vertical-align: middle;\n",
       "    }\n",
       "\n",
       "    .dataframe tbody tr th {\n",
       "        vertical-align: top;\n",
       "    }\n",
       "\n",
       "    .dataframe thead th {\n",
       "        text-align: right;\n",
       "    }\n",
       "</style>\n",
       "<table border=\"1\" class=\"dataframe\">\n",
       "  <thead>\n",
       "    <tr style=\"text-align: right;\">\n",
       "      <th></th>\n",
       "      <th>count_low</th>\n",
       "      <th>count_high</th>\n",
       "    </tr>\n",
       "    <tr>\n",
       "      <th>target_word</th>\n",
       "      <th></th>\n",
       "      <th></th>\n",
       "    </tr>\n",
       "  </thead>\n",
       "  <tbody>\n",
       "    <tr>\n",
       "      <th>blush</th>\n",
       "      <td>NaN</td>\n",
       "      <td>56</td>\n",
       "    </tr>\n",
       "    <tr>\n",
       "      <th>bunk</th>\n",
       "      <td>1.0</td>\n",
       "      <td>50</td>\n",
       "    </tr>\n",
       "    <tr>\n",
       "      <th>clay</th>\n",
       "      <td>2.0</td>\n",
       "      <td>33</td>\n",
       "    </tr>\n",
       "    <tr>\n",
       "      <th>cramp</th>\n",
       "      <td>2.0</td>\n",
       "      <td>22</td>\n",
       "    </tr>\n",
       "    <tr>\n",
       "      <th>daily</th>\n",
       "      <td>1.0</td>\n",
       "      <td>228</td>\n",
       "    </tr>\n",
       "    <tr>\n",
       "      <th>filth</th>\n",
       "      <td>NaN</td>\n",
       "      <td>27</td>\n",
       "    </tr>\n",
       "    <tr>\n",
       "      <th>fluke</th>\n",
       "      <td>NaN</td>\n",
       "      <td>7</td>\n",
       "    </tr>\n",
       "    <tr>\n",
       "      <th>lever</th>\n",
       "      <td>NaN</td>\n",
       "      <td>18</td>\n",
       "    </tr>\n",
       "    <tr>\n",
       "      <th>loft</th>\n",
       "      <td>NaN</td>\n",
       "      <td>35</td>\n",
       "    </tr>\n",
       "    <tr>\n",
       "      <th>moral</th>\n",
       "      <td>NaN</td>\n",
       "      <td>25</td>\n",
       "    </tr>\n",
       "    <tr>\n",
       "      <th>motor</th>\n",
       "      <td>1.0</td>\n",
       "      <td>32</td>\n",
       "    </tr>\n",
       "    <tr>\n",
       "      <th>pity</th>\n",
       "      <td>8.0</td>\n",
       "      <td>170</td>\n",
       "    </tr>\n",
       "    <tr>\n",
       "      <th>pout</th>\n",
       "      <td>2.0</td>\n",
       "      <td>7</td>\n",
       "    </tr>\n",
       "    <tr>\n",
       "      <th>quirk</th>\n",
       "      <td>NaN</td>\n",
       "      <td>1</td>\n",
       "    </tr>\n",
       "    <tr>\n",
       "      <th>sage</th>\n",
       "      <td>NaN</td>\n",
       "      <td>7</td>\n",
       "    </tr>\n",
       "    <tr>\n",
       "      <th>self</th>\n",
       "      <td>102.0</td>\n",
       "      <td>131</td>\n",
       "    </tr>\n",
       "    <tr>\n",
       "      <th>snow</th>\n",
       "      <td>51.0</td>\n",
       "      <td>354</td>\n",
       "    </tr>\n",
       "    <tr>\n",
       "      <th>spark</th>\n",
       "      <td>NaN</td>\n",
       "      <td>27</td>\n",
       "    </tr>\n",
       "    <tr>\n",
       "      <th>spit</th>\n",
       "      <td>2.0</td>\n",
       "      <td>85</td>\n",
       "    </tr>\n",
       "    <tr>\n",
       "      <th>stray</th>\n",
       "      <td>NaN</td>\n",
       "      <td>49</td>\n",
       "    </tr>\n",
       "    <tr>\n",
       "      <th>tomb</th>\n",
       "      <td>1.0</td>\n",
       "      <td>42</td>\n",
       "    </tr>\n",
       "    <tr>\n",
       "      <th>vice</th>\n",
       "      <td>3.0</td>\n",
       "      <td>19</td>\n",
       "    </tr>\n",
       "  </tbody>\n",
       "</table>\n",
       "</div>"
      ],
      "text/plain": [
       "             count_low  count_high\n",
       "target_word                       \n",
       "blush              NaN          56\n",
       "bunk               1.0          50\n",
       "clay               2.0          33\n",
       "cramp              2.0          22\n",
       "daily              1.0         228\n",
       "filth              NaN          27\n",
       "fluke              NaN           7\n",
       "lever              NaN          18\n",
       "loft               NaN          35\n",
       "moral              NaN          25\n",
       "motor              1.0          32\n",
       "pity               8.0         170\n",
       "pout               2.0           7\n",
       "quirk              NaN           1\n",
       "sage               NaN           7\n",
       "self             102.0         131\n",
       "snow              51.0         354\n",
       "spark              NaN          27\n",
       "spit               2.0          85\n",
       "stray              NaN          49\n",
       "tomb               1.0          42\n",
       "vice               3.0          19"
      ]
     },
     "execution_count": 34,
     "metadata": {},
     "output_type": "execute_result"
    }
   ],
   "source": [
    "merge_count_df = pd.merge(\n",
    "    results_df[(results_df.entropy.between(4, 5)) & results_df.surprisal.between(-3, 0)].target_word.value_counts().rename(\"count_low\").to_frame(),\n",
    "    results_df[(results_df.entropy.between(4, 5)) & (results_df.surprisal.between(-15, -10))].target_word.value_counts().rename(\"count_high\").to_frame(),\n",
    "    how=\"outer\", left_index=True, right_index=True)\n",
    "merge_count_df"
   ]
  },
  {
   "cell_type": "code",
   "execution_count": 35,
   "id": "5bbbb239",
   "metadata": {},
   "outputs": [
    {
     "data": {
      "text/plain": [
       "12"
      ]
     },
     "execution_count": 35,
     "metadata": {},
     "output_type": "execute_result"
    }
   ],
   "source": [
    "(~merge_count_df.isna()).all(axis=1).sum()"
   ]
  },
  {
   "cell_type": "code",
   "execution_count": 36,
   "id": "807beb1e",
   "metadata": {},
   "outputs": [],
   "source": [
    "if \"label\" in results_df.columns:\n",
    "    results_df = results_df.drop(columns=[\"label\"])\n",
    "results_df.loc[(results_df.entropy.between(4, 5)) & results_df.surprisal.between(-3, 0), \"label\"] = \"low\"\n",
    "results_df.loc[(results_df.entropy.between(4, 5)) & (results_df.surprisal.between(-15, -10)), \"label\"] = \"high\""
   ]
  },
  {
   "cell_type": "code",
   "execution_count": 37,
   "id": "fd1dd641",
   "metadata": {},
   "outputs": [
    {
     "data": {
      "text/plain": [
       "<Axes: xlabel='label', ylabel='surprisal'>"
      ]
     },
     "execution_count": 37,
     "metadata": {},
     "output_type": "execute_result"
    },
    {
     "data": {
      "image/png": "[encoded data removed]",
      "text/plain": [
       "<Figure size 640x480 with 1 Axes>"
      ]
     },
     "metadata": {},
     "output_type": "display_data"
    }
   ],
   "source": [
    "sns.barplot(data=results_df, x=\"label\", y=\"surprisal\")"
   ]
  },
  {
   "cell_type": "code",
   "execution_count": 38,
   "id": "55d211bd",
   "metadata": {},
   "outputs": [
    {
     "data": {
      "text/plain": [
       "<Axes: xlabel='label', ylabel='entropy'>"
      ]
     },
     "execution_count": 38,
     "metadata": {},
     "output_type": "execute_result"
    },
    {
     "data": {
      "image/png": "[encoded data removed]",
      "text/plain": [
       "<Figure size 640x480 with 1 Axes>"
      ]
     },
     "metadata": {},
     "output_type": "display_data"
    }
   ],
   "source": [
    "sns.barplot(data=results_df, x=\"label\", y=\"entropy\")"
   ]
  },
  {
   "cell_type": "code",
   "execution_count": 42,
   "id": "738fbadf",
   "metadata": {},
   "outputs": [
    {
     "data": {
      "text/html": [
       "<div>\n",
       "<style scoped>\n",
       "    .dataframe tbody tr th:only-of-type {\n",
       "        vertical-align: middle;\n",
       "    }\n",
       "\n",
       "    .dataframe tbody tr th {\n",
       "        vertical-align: top;\n",
       "    }\n",
       "\n",
       "    .dataframe thead th {\n",
       "        text-align: right;\n",
       "    }\n",
       "</style>\n",
       "<table border=\"1\" class=\"dataframe\">\n",
       "  <thead>\n",
       "    <tr style=\"text-align: right;\">\n",
       "      <th></th>\n",
       "      <th>sentence_idx</th>\n",
       "      <th>found</th>\n",
       "      <th>surprisal</th>\n",
       "      <th>entropy</th>\n",
       "      <th>target_word</th>\n",
       "      <th>label</th>\n",
       "      <th>sentence</th>\n",
       "    </tr>\n",
       "  </thead>\n",
       "  <tbody>\n",
       "    <tr>\n",
       "      <th>9517</th>\n",
       "      <td>525</td>\n",
       "      <td>True</td>\n",
       "      <td>-12.400428</td>\n",
       "      <td>4.339103</td>\n",
       "      <td>blush</td>\n",
       "      <td>high</td>\n",
       "      <td>It makes me blush.</td>\n",
       "    </tr>\n",
       "    <tr>\n",
       "      <th>9231</th>\n",
       "      <td>239</td>\n",
       "      <td>True</td>\n",
       "      <td>-12.238396</td>\n",
       "      <td>4.730017</td>\n",
       "      <td>blush</td>\n",
       "      <td>high</td>\n",
       "      <td>Is that lip shade coral blush?</td>\n",
       "    </tr>\n",
       "    <tr>\n",
       "      <th>9141</th>\n",
       "      <td>149</td>\n",
       "      <td>True</td>\n",
       "      <td>-12.208710</td>\n",
       "      <td>4.710689</td>\n",
       "      <td>blush</td>\n",
       "      <td>high</td>\n",
       "      <td>The cheeks of the children blush.</td>\n",
       "    </tr>\n",
       "    <tr>\n",
       "      <th>9474</th>\n",
       "      <td>482</td>\n",
       "      <td>True</td>\n",
       "      <td>-12.080766</td>\n",
       "      <td>4.685691</td>\n",
       "      <td>blush</td>\n",
       "      <td>high</td>\n",
       "      <td>- To make you blush.</td>\n",
       "    </tr>\n",
       "    <tr>\n",
       "      <th>9493</th>\n",
       "      <td>501</td>\n",
       "      <td>True</td>\n",
       "      <td>-11.891634</td>\n",
       "      <td>4.928677</td>\n",
       "      <td>blush</td>\n",
       "      <td>high</td>\n",
       "      <td>They make you blush.</td>\n",
       "    </tr>\n",
       "    <tr>\n",
       "      <th>...</th>\n",
       "      <td>...</td>\n",
       "      <td>...</td>\n",
       "      <td>...</td>\n",
       "      <td>...</td>\n",
       "      <td>...</td>\n",
       "      <td>...</td>\n",
       "      <td>...</td>\n",
       "    </tr>\n",
       "    <tr>\n",
       "      <th>38</th>\n",
       "      <td>38</td>\n",
       "      <td>True</td>\n",
       "      <td>-11.772165</td>\n",
       "      <td>4.547930</td>\n",
       "      <td>vice</td>\n",
       "      <td>high</td>\n",
       "      <td>Extremism in the name of piety is no vice.</td>\n",
       "    </tr>\n",
       "    <tr>\n",
       "      <th>213</th>\n",
       "      <td>213</td>\n",
       "      <td>True</td>\n",
       "      <td>-10.265224</td>\n",
       "      <td>4.916199</td>\n",
       "      <td>vice</td>\n",
       "      <td>high</td>\n",
       "      <td>I don't think smoking is a vice.</td>\n",
       "    </tr>\n",
       "    <tr>\n",
       "      <th>400</th>\n",
       "      <td>400</td>\n",
       "      <td>True</td>\n",
       "      <td>-1.489419</td>\n",
       "      <td>4.829265</td>\n",
       "      <td>vice</td>\n",
       "      <td>low</td>\n",
       "      <td>you'll work pro hac vice.</td>\n",
       "    </tr>\n",
       "    <tr>\n",
       "      <th>165</th>\n",
       "      <td>165</td>\n",
       "      <td>True</td>\n",
       "      <td>-1.407379</td>\n",
       "      <td>4.766074</td>\n",
       "      <td>vice</td>\n",
       "      <td>low</td>\n",
       "      <td>For now, you'll work pro hac vice.</td>\n",
       "    </tr>\n",
       "    <tr>\n",
       "      <th>245</th>\n",
       "      <td>245</td>\n",
       "      <td>True</td>\n",
       "      <td>-1.165189</td>\n",
       "      <td>4.314086</td>\n",
       "      <td>vice</td>\n",
       "      <td>low</td>\n",
       "      <td>For now, you work pro hac vice.</td>\n",
       "    </tr>\n",
       "  </tbody>\n",
       "</table>\n",
       "<p>221 rows × 7 columns</p>\n",
       "</div>"
      ],
      "text/plain": [
       "      sentence_idx  found  surprisal   entropy target_word label  \\\n",
       "9517           525   True -12.400428  4.339103       blush  high   \n",
       "9231           239   True -12.238396  4.730017       blush  high   \n",
       "9141           149   True -12.208710  4.710689       blush  high   \n",
       "9474           482   True -12.080766  4.685691       blush  high   \n",
       "9493           501   True -11.891634  4.928677       blush  high   \n",
       "...            ...    ...        ...       ...         ...   ...   \n",
       "38              38   True -11.772165  4.547930        vice  high   \n",
       "213            213   True -10.265224  4.916199        vice  high   \n",
       "400            400   True  -1.489419  4.829265        vice   low   \n",
       "165            165   True  -1.407379  4.766074        vice   low   \n",
       "245            245   True  -1.165189  4.314086        vice   low   \n",
       "\n",
       "                                        sentence  \n",
       "9517                          It makes me blush.  \n",
       "9231              Is that lip shade coral blush?  \n",
       "9141           The cheeks of the children blush.  \n",
       "9474                        - To make you blush.  \n",
       "9493                        They make you blush.  \n",
       "...                                          ...  \n",
       "38    Extremism in the name of piety is no vice.  \n",
       "213             I don't think smoking is a vice.  \n",
       "400                    you'll work pro hac vice.  \n",
       "165           For now, you'll work pro hac vice.  \n",
       "245              For now, you work pro hac vice.  \n",
       "\n",
       "[221 rows x 7 columns]"
      ]
     },
     "execution_count": 42,
     "metadata": {},
     "output_type": "execute_result"
    }
   ],
   "source": [
    "candidate_df"
   ]
  },
  {
   "cell_type": "code",
   "execution_count": 150,
   "id": "c21f8512",
   "metadata": {},
   "outputs": [],
   "source": [
    "# manually add sentences to the filtered set, regardless of their performance in the above\n",
    "# surprisal/entropy tests\n",
    "\n",
    "manual_additions = {\n",
    "    \"slave\": {\n",
    "        \"low\": [\"Education liberates, transforming each former slave.\",\n",
    "                \"Every human deserves dignity, not to be a slave.\",\n",
    "                \"No one should be born a slave.\",\n",
    "                \"Liberation movements fight against being a slave.\"],\n",
    "        \"high\": [\"The career made him a modern-day slave.\",\n",
    "                 \"Despite his success, he felt like a slave.\",\n",
    "                 \"The demanding job reduced him to a mere slave.\",\n",
    "                 \"Beneath the CEO title, he was a slave.\",\n",
    "                 \"Behind the fame, he remained a slave.\",\n",
    "                 \"With every promotion, he became more of a slave.\",\n",
    "                 \"The timeless melody was composed by a slave.\"],\n",
    "    },\n",
    "    \"fluke\": {\n",
    "        \"low\": [\"The weather anomaly was a complete fluke.\",\n",
    "                \"The coincidence was merely a fluke.\"],\n",
    "        \"high\": [\"Winning the lottery twice was a bizarre fluke.\",\n",
    "                 \"The only reason they met was a fluke.\",],\n",
    "    },\n",
    "    \"filth\": {\n",
    "        \"high\": [\"The gourmet kitchen hid years of filth.\",\n",
    "                \"Behind the luxury, the mansion was full of filth.\"],\n",
    "        \"low\": [\"The back alley reeked of filth.\",\n",
    "                \"The neglected basement was covered in filth.\"],\n",
    "    },\n",
    "    \"quirk\": {\n",
    "        \"high\": [\"The famous author's writing had a single quirk.\",\n",
    "                \"The top athlete's routine included a unique quirk.\"],\n",
    "        \"low\": [\"Her impeccable taste had one odd quirk.\"],\n",
    "    },\n",
    "    \"blush\": {\n",
    "        \"high\": [\"The robot's face turned red in a blush.\",\n",
    "                \"The ice sculpture seemed to blush.\",\n",
    "                \"The alien's skin color changed to blush.\",\n",
    "                \"The stone statue appeared to blush.\"],\n",
    "        \"low\": [\"His compliment made her blush.\",\n",
    "                \"The shy girl began to blush.\",\n",
    "                \"The romantic gesture made him blush.\"],\n",
    "    },\n",
    "    \"clay\": {\n",
    "        \"high\": [\"The skyscraper's core was made of clay.\",\n",
    "                \"The computer chip was surprisingly crafted from clay.\",\n",
    "                \"The ancient manuscript was preserved in clay.\"],\n",
    "        \"low\": [\"The sculpture was made from clay.\"],\n",
    "    },\n",
    "    \"cramp\": {\n",
    "        \"high\": [\"The scientist's mind went blank with a cramp.\",\n",
    "                \"The chef's creativity halted due to a cramp.\",\n",
    "                \"The dancer's elegance was interrupted by a cramp.\"],\n",
    "        \"low\": [\"The swimmer stopped due to a cramp.\",\n",
    "                \"The hike gave her a painful cramp.\"],\n",
    "    },\n",
    "    \"clan\": {\n",
    "        \"high\": [\"The orchestra performed like a unified clan.\"],\n",
    "        \"low\": [\"The ancient tribe was known as a powerful clan.\",\n",
    "                \"Their family had the strength of a clan.\"],\n",
    "    },\n",
    "    \"lever\": {\n",
    "        \"high\": [\"The novel's plot twist hinged on a lever.\",\n",
    "                \"The musician's creativity was unlocked by a lever.\",\n",
    "                \"The secret passage was revealed by a lever.\",\n",
    "                \"The political campaign turned on a strategic lever.\"],\n",
    "        \"low\": [\"He pulled the machine's starting lever.\",\n",
    "                \"The train's speed was controlled by a lever.\",],\n",
    "    },\n",
    "    \"pout\": {\n",
    "        \"high\": [\"The statue's expression ended in a pout.\",\n",
    "                \"The robot's display showed a digital pout.\",\n",
    "                \"The serious politician suddenly broke into a pout.\",\n",
    "                \"The ancient painting featured a mysterious pout.\",\n",
    "                \"The cat's fur pattern resembled a pout.\"],\n",
    "        \"low\": [\"She couldn't help but pout.\",\n",
    "                \"The toddler's reaction was a persistent pout.\"],\n",
    "    },\n",
    "    \"stray\": {\n",
    "        \"high\": [\"The perfectly coded program had one stray.\",\n",
    "                \"The symphony was flawless, except for one stray.\",\n",
    "                \"Her thoughts contained a single stray.\",],\n",
    "        \"low\": [\"The dog wandered into the yard as a stray.\",\n",
    "                \"A leaf blew across the sidewalk as a stray.\",\n",
    "                \"The bullet hit the wall as a stray.\",],\n",
    "    },\n",
    "    \"moral\": {\n",
    "        \"high\": [\"The financial report had an unexpected moral.\",\n",
    "                \"The action movie concluded with a surprising moral.\",\n",
    "                \"The recipe book ended with a moral.\"],\n",
    "        \"low\": [\"The fable ended with a clear moral.\",\n",
    "                \"Every fairy tale has a moral.\",\n",
    "                \"The sermon focused on a strong moral.\"],\n",
    "    },\n",
    "    \"sage\": {\n",
    "        \"high\": [\"The barista dispensed guidance like a sage.\",\n",
    "                \"The toddler spoke with the tone of a sage.\",\n",
    "                \"The cartoon character sounded like a sage.\"],\n",
    "        \"low\": [\"The sports coach gave wisdom like a sage.\"],\n",
    "    }\n",
    "    \n",
    "}\n"
   ]
  },
  {
   "cell_type": "code",
   "execution_count": 151,
   "id": "e7710b25",
   "metadata": {},
   "outputs": [
    {
     "data": {
      "application/vnd.jupyter.widget-view+json": {
       "model_id": "02afc4168964454599f362f57e453b5f",
       "version_major": 2,
       "version_minor": 0
      },
      "text/plain": [
       "  0%|          | 0/13 [00:00<?, ?it/s]"
      ]
     },
     "metadata": {},
     "output_type": "display_data"
    },
    {
     "name": "stdout",
     "output_type": "stream",
     "text": [
      "slave [11778]\n"
     ]
    },
    {
     "data": {
      "application/vnd.jupyter.widget-view+json": {
       "model_id": "c8904fe67f3e443e9e6b2dcdcad1122d",
       "version_major": 2,
       "version_minor": 0
      },
      "text/plain": [
       "  0%|          | 0/1 [00:00<?, ?batch/s]"
      ]
     },
     "metadata": {},
     "output_type": "display_data"
    },
    {
     "name": "stdout",
     "output_type": "stream",
     "text": [
      "fluke [781, 4649]\n"
     ]
    },
    {
     "data": {
      "application/vnd.jupyter.widget-view+json": {
       "model_id": "b6d063d04b574791953f6a92c8a463c7",
       "version_major": 2,
       "version_minor": 0
      },
      "text/plain": [
       "  0%|          | 0/1 [00:00<?, ?batch/s]"
      ]
     },
     "metadata": {},
     "output_type": "display_data"
    },
    {
     "name": "stdout",
     "output_type": "stream",
     "text": [
      "filth [1226, 400]\n"
     ]
    },
    {
     "data": {
      "application/vnd.jupyter.widget-view+json": {
       "model_id": "64c71753bbe94cfc819f5829625a68a7",
       "version_major": 2,
       "version_minor": 0
      },
      "text/plain": [
       "  0%|          | 0/1 [00:00<?, ?batch/s]"
      ]
     },
     "metadata": {},
     "output_type": "display_data"
    },
    {
     "name": "stdout",
     "output_type": "stream",
     "text": [
      "quirk [627, 14232]\n"
     ]
    },
    {
     "data": {
      "application/vnd.jupyter.widget-view+json": {
       "model_id": "5629a9b8070445c794906991807dec2c",
       "version_major": 2,
       "version_minor": 0
      },
      "text/plain": [
       "  0%|          | 0/1 [00:00<?, ?batch/s]"
      ]
     },
     "metadata": {},
     "output_type": "display_data"
    },
    {
     "name": "stdout",
     "output_type": "stream",
     "text": [
      "blush [37854]\n"
     ]
    },
    {
     "data": {
      "application/vnd.jupyter.widget-view+json": {
       "model_id": "b3d100d2804e42a3b6f0817fc2e81d6d",
       "version_major": 2,
       "version_minor": 0
      },
      "text/plain": [
       "  0%|          | 0/1 [00:00<?, ?batch/s]"
      ]
     },
     "metadata": {},
     "output_type": "display_data"
    },
    {
     "name": "stdout",
     "output_type": "stream",
     "text": [
      "clay [21558]\n"
     ]
    },
    {
     "data": {
      "application/vnd.jupyter.widget-view+json": {
       "model_id": "e2bb86e9e14a43c6b1823df9bc861fc0",
       "version_major": 2,
       "version_minor": 0
      },
      "text/plain": [
       "  0%|          | 0/1 [00:00<?, ?batch/s]"
      ]
     },
     "metadata": {},
     "output_type": "display_data"
    },
    {
     "name": "stdout",
     "output_type": "stream",
     "text": [
      "cramp [1067, 696]\n"
     ]
    },
    {
     "data": {
      "application/vnd.jupyter.widget-view+json": {
       "model_id": "4ce0719f51a64073b4957add5339b5fd",
       "version_major": 2,
       "version_minor": 0
      },
      "text/plain": [
       "  0%|          | 0/1 [00:00<?, ?batch/s]"
      ]
     },
     "metadata": {},
     "output_type": "display_data"
    },
    {
     "name": "stdout",
     "output_type": "stream",
     "text": [
      "clan [19065]\n"
     ]
    },
    {
     "data": {
      "application/vnd.jupyter.widget-view+json": {
       "model_id": "4b8b6cf0c53c407797a854034ad6bc8c",
       "version_major": 2,
       "version_minor": 0
      },
      "text/plain": [
       "  0%|          | 0/1 [00:00<?, ?batch/s]"
      ]
     },
     "metadata": {},
     "output_type": "display_data"
    },
    {
     "name": "stdout",
     "output_type": "stream",
     "text": [
      "lever [17124]\n"
     ]
    },
    {
     "data": {
      "application/vnd.jupyter.widget-view+json": {
       "model_id": "a298ef70fe384c1a806485b3c3dac415",
       "version_major": 2,
       "version_minor": 0
      },
      "text/plain": [
       "  0%|          | 0/1 [00:00<?, ?batch/s]"
      ]
     },
     "metadata": {},
     "output_type": "display_data"
    },
    {
     "name": "stdout",
     "output_type": "stream",
     "text": [
      "pout [279, 448]\n"
     ]
    },
    {
     "data": {
      "application/vnd.jupyter.widget-view+json": {
       "model_id": "55d42f7b633a4ba2aca586eea55b1023",
       "version_major": 2,
       "version_minor": 0
      },
      "text/plain": [
       "  0%|          | 0/1 [00:00<?, ?batch/s]"
      ]
     },
     "metadata": {},
     "output_type": "display_data"
    },
    {
     "name": "stdout",
     "output_type": "stream",
     "text": [
      "stray [28583]\n"
     ]
    },
    {
     "data": {
      "application/vnd.jupyter.widget-view+json": {
       "model_id": "649897b4c45a4a5b8b03efb82458ec55",
       "version_major": 2,
       "version_minor": 0
      },
      "text/plain": [
       "  0%|          | 0/1 [00:00<?, ?batch/s]"
      ]
     },
     "metadata": {},
     "output_type": "display_data"
    },
    {
     "name": "stdout",
     "output_type": "stream",
     "text": [
      "moral [6573]\n"
     ]
    },
    {
     "data": {
      "application/vnd.jupyter.widget-view+json": {
       "model_id": "b59a27f2686547ee868e17653e0f9f9a",
       "version_major": 2,
       "version_minor": 0
      },
      "text/plain": [
       "  0%|          | 0/1 [00:00<?, ?batch/s]"
      ]
     },
     "metadata": {},
     "output_type": "display_data"
    },
    {
     "name": "stdout",
     "output_type": "stream",
     "text": [
      "sage [35021]\n"
     ]
    },
    {
     "data": {
      "application/vnd.jupyter.widget-view+json": {
       "model_id": "22477973e9ed4588b7c434d5bbe65e04",
       "version_major": 2,
       "version_minor": 0
      },
      "text/plain": [
       "  0%|          | 0/1 [00:00<?, ?batch/s]"
      ]
     },
     "metadata": {},
     "output_type": "display_data"
    }
   ],
   "source": [
    "manual_results = []\n",
    "\n",
    "for target_word, labeled_sentences in tqdm(manual_additions.items()):\n",
    "    word_sentences = [sentence for sentences in labeled_sentences.values() for sentence in sentences]\n",
    "    word_sentence_ids = np.arange(len(word_sentences))\n",
    "    word_labels = [label for label, sentences in labeled_sentences.items() for _ in sentences]\n",
    "\n",
    "    print(target_word, scorer.tokenizer(\" \" + target_word).input_ids)\n",
    "    target_word_tokens = scorer.tokenizer.convert_ids_to_tokens(scorer.tokenizer(\" \" + target_word)[\"input_ids\"])\n",
    "\n",
    "    for batch_cursor in trange(0, len(word_sentences), batch_size, unit=\"batch\", leave=False):\n",
    "        sent_ids_batch = word_sentence_ids[batch_cursor:batch_cursor + batch_size]\n",
    "        sents_batch = word_sentences[batch_cursor:batch_cursor + batch_size]\n",
    "\n",
    "        batch_tokens, batch_surprisals, batch_entropies = compute_surprisal_entropy(scorer, sents_batch)\n",
    "\n",
    "        found_mask = np.zeros((len(sents_batch), 1), dtype=bool)\n",
    "        sentence_target_values = np.zeros((len(sents_batch), 2))\n",
    "        for i, sent in enumerate(sents_batch):\n",
    "            for j in range(len(batch_tokens[i])):\n",
    "                if batch_tokens[i][j:j+len(target_word_tokens)] == target_word_tokens:\n",
    "                    sentence_target_values[i, 0] = batch_surprisals[i][j - 1:j - 1 +len(target_word_tokens)].sum().item()\n",
    "                    sentence_target_values[i, 1] = batch_entropies[i][j - 1].item()\n",
    "                    found_mask[i] = True\n",
    "\n",
    "        manual_results.append(\n",
    "            pd.DataFrame({\"target_word\": target_word, \"sentence_idx\": sent_ids_batch, \"sentence\": sents_batch,\n",
    "                          \"found\": found_mask.flatten(), \"label\": word_labels,\n",
    "                          \"surprisal\": sentence_target_values[:, 0],\n",
    "                          \"entropy\": sentence_target_values[:, 1]}))"
   ]
  },
  {
   "cell_type": "code",
   "execution_count": 167,
   "id": "a87de9c3",
   "metadata": {},
   "outputs": [],
   "source": [
    "candidate_df = results_df[~results_df.label.isna()].groupby([\"target_word\", \"label\"]) \\\n",
    "    .sample(10, replace=True).reset_index()\n",
    "\n",
    "# add in all manual candidates\n",
    "candidate_df = pd.concat([candidate_df.assign(manual=False),\n",
    "                          pd.concat(manual_results).assign(manual=True).reset_index()])\n",
    "candidate_df = candidate_df.drop_duplicates(\"sentence\").sort_values([\"target_word\", \"label\", \"surprisal\"])\n",
    "\n",
    "# match column order of the current annotation set\n",
    "candidate_df = candidate_df[[\"sentence_idx\", \"found\", \"surprisal\", \"entropy\", \"target_word\", \"label\", \"sentence\"]]\n",
    "\n",
    "candidate_df.to_csv(f\"candidate_sentences-{scorer.model.name_or_path.replace('/', '-')}-{sample_id}.csv\")"
   ]
  }
 ],
 "metadata": {
  "kernelspec": {
   "display_name": "Python 3 (ipykernel)",
   "language": "python",
   "name": "python3"
  },
  "language_info": {
   "codemirror_mode": {
    "name": "ipython",
    "version": 3
   },
   "file_extension": ".py",
   "mimetype": "text/x-python",
   "name": "python",
   "nbconvert_exporter": "python",
   "pygments_lexer": "ipython3",
   "version": "3.10.13"
  }
 },
 "nbformat": 4,
 "nbformat_minor": 5
}
